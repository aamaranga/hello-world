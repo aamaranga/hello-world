{
 "cells": [
  {
   "cell_type": "code",
   "execution_count": 1,
   "metadata": {},
   "outputs": [],
   "source": [
    "import pandas as pd\n",
    "import seaborn as sns\n",
    "%matplotlib inline\n",
    "import matplotlib.pyplot as plt\n",
    "from sklearn.preprocessing import LabelEncoder\n",
    "from sklearn.impute import SimpleImputer\n",
    "import numpy as np\n",
    "from sklearn.model_selection import train_test_split"
   ]
  },
  {
   "cell_type": "code",
   "execution_count": 2,
   "metadata": {},
   "outputs": [
    {
     "name": "stdout",
     "output_type": "stream",
     "text": [
      "Displaying top 5 rows ...\n"
     ]
    },
    {
     "data": {
      "text/html": [
       "<div>\n",
       "<style scoped>\n",
       "    .dataframe tbody tr th:only-of-type {\n",
       "        vertical-align: middle;\n",
       "    }\n",
       "\n",
       "    .dataframe tbody tr th {\n",
       "        vertical-align: top;\n",
       "    }\n",
       "\n",
       "    .dataframe thead th {\n",
       "        text-align: right;\n",
       "    }\n",
       "</style>\n",
       "<table border=\"1\" class=\"dataframe\">\n",
       "  <thead>\n",
       "    <tr style=\"text-align: right;\">\n",
       "      <th></th>\n",
       "      <th>Loan_ID</th>\n",
       "      <th>Gender</th>\n",
       "      <th>Married</th>\n",
       "      <th>Dependents</th>\n",
       "      <th>Education</th>\n",
       "      <th>Self_Employed</th>\n",
       "      <th>ApplicantIncome</th>\n",
       "      <th>CoapplicantIncome</th>\n",
       "      <th>LoanAmount</th>\n",
       "      <th>Loan_Amount_Term</th>\n",
       "      <th>Credit_History</th>\n",
       "      <th>Property_Area</th>\n",
       "      <th>Loan_Status</th>\n",
       "    </tr>\n",
       "  </thead>\n",
       "  <tbody>\n",
       "    <tr>\n",
       "      <th>0</th>\n",
       "      <td>LP001002</td>\n",
       "      <td>Male</td>\n",
       "      <td>No</td>\n",
       "      <td>0</td>\n",
       "      <td>Graduate</td>\n",
       "      <td>No</td>\n",
       "      <td>5849</td>\n",
       "      <td>0.0</td>\n",
       "      <td>NaN</td>\n",
       "      <td>360.0</td>\n",
       "      <td>1.0</td>\n",
       "      <td>Urban</td>\n",
       "      <td>Y</td>\n",
       "    </tr>\n",
       "    <tr>\n",
       "      <th>1</th>\n",
       "      <td>LP001003</td>\n",
       "      <td>Male</td>\n",
       "      <td>Yes</td>\n",
       "      <td>1</td>\n",
       "      <td>Graduate</td>\n",
       "      <td>No</td>\n",
       "      <td>4583</td>\n",
       "      <td>1508.0</td>\n",
       "      <td>128.0</td>\n",
       "      <td>360.0</td>\n",
       "      <td>1.0</td>\n",
       "      <td>Rural</td>\n",
       "      <td>N</td>\n",
       "    </tr>\n",
       "    <tr>\n",
       "      <th>2</th>\n",
       "      <td>LP001005</td>\n",
       "      <td>Male</td>\n",
       "      <td>Yes</td>\n",
       "      <td>0</td>\n",
       "      <td>Graduate</td>\n",
       "      <td>Yes</td>\n",
       "      <td>3000</td>\n",
       "      <td>0.0</td>\n",
       "      <td>66.0</td>\n",
       "      <td>360.0</td>\n",
       "      <td>1.0</td>\n",
       "      <td>Urban</td>\n",
       "      <td>Y</td>\n",
       "    </tr>\n",
       "    <tr>\n",
       "      <th>3</th>\n",
       "      <td>LP001006</td>\n",
       "      <td>Male</td>\n",
       "      <td>Yes</td>\n",
       "      <td>0</td>\n",
       "      <td>Not Graduate</td>\n",
       "      <td>No</td>\n",
       "      <td>2583</td>\n",
       "      <td>2358.0</td>\n",
       "      <td>120.0</td>\n",
       "      <td>360.0</td>\n",
       "      <td>1.0</td>\n",
       "      <td>Urban</td>\n",
       "      <td>Y</td>\n",
       "    </tr>\n",
       "    <tr>\n",
       "      <th>4</th>\n",
       "      <td>LP001008</td>\n",
       "      <td>Male</td>\n",
       "      <td>No</td>\n",
       "      <td>0</td>\n",
       "      <td>Graduate</td>\n",
       "      <td>No</td>\n",
       "      <td>6000</td>\n",
       "      <td>0.0</td>\n",
       "      <td>141.0</td>\n",
       "      <td>360.0</td>\n",
       "      <td>1.0</td>\n",
       "      <td>Urban</td>\n",
       "      <td>Y</td>\n",
       "    </tr>\n",
       "  </tbody>\n",
       "</table>\n",
       "</div>"
      ],
      "text/plain": [
       "    Loan_ID Gender Married Dependents     Education Self_Employed  \\\n",
       "0  LP001002   Male      No          0      Graduate            No   \n",
       "1  LP001003   Male     Yes          1      Graduate            No   \n",
       "2  LP001005   Male     Yes          0      Graduate           Yes   \n",
       "3  LP001006   Male     Yes          0  Not Graduate            No   \n",
       "4  LP001008   Male      No          0      Graduate            No   \n",
       "\n",
       "   ApplicantIncome  CoapplicantIncome  LoanAmount  Loan_Amount_Term  \\\n",
       "0             5849                0.0         NaN             360.0   \n",
       "1             4583             1508.0       128.0             360.0   \n",
       "2             3000                0.0        66.0             360.0   \n",
       "3             2583             2358.0       120.0             360.0   \n",
       "4             6000                0.0       141.0             360.0   \n",
       "\n",
       "   Credit_History Property_Area Loan_Status  \n",
       "0             1.0         Urban           Y  \n",
       "1             1.0         Rural           N  \n",
       "2             1.0         Urban           Y  \n",
       "3             1.0         Urban           Y  \n",
       "4             1.0         Urban           Y  "
      ]
     },
     "execution_count": 2,
     "metadata": {},
     "output_type": "execute_result"
    }
   ],
   "source": [
    "df = pd.read_csv('train_loan.csv')\n",
    "print('Displaying top 5 rows ...')\n",
    "df.head()"
   ]
  },
  {
   "cell_type": "code",
   "execution_count": 3,
   "metadata": {},
   "outputs": [
    {
     "name": "stdout",
     "output_type": "stream",
     "text": [
      "size of the training sample: (614, 13)\n"
     ]
    }
   ],
   "source": [
    "print('size of the training sample:',df.shape)"
   ]
  },
  {
   "cell_type": "code",
   "execution_count": 4,
   "metadata": {},
   "outputs": [
    {
     "name": "stdout",
     "output_type": "stream",
     "text": [
      "checking columns types: \n",
      "\n"
     ]
    },
    {
     "data": {
      "text/plain": [
       "Loan_ID               object\n",
       "Gender                object\n",
       "Married               object\n",
       "Dependents            object\n",
       "Education             object\n",
       "Self_Employed         object\n",
       "ApplicantIncome        int64\n",
       "CoapplicantIncome    float64\n",
       "LoanAmount           float64\n",
       "Loan_Amount_Term     float64\n",
       "Credit_History       float64\n",
       "Property_Area         object\n",
       "Loan_Status           object\n",
       "dtype: object"
      ]
     },
     "execution_count": 4,
     "metadata": {},
     "output_type": "execute_result"
    }
   ],
   "source": [
    "print('checking columns types: \\n')\n",
    "df.dtypes"
   ]
  },
  {
   "cell_type": "markdown",
   "metadata": {},
   "source": []
  },
  {
   "cell_type": "code",
   "execution_count": 5,
   "metadata": {},
   "outputs": [
    {
     "name": "stdout",
     "output_type": "stream",
     "text": [
      "Lets have a look on missing values:\n",
      "\n"
     ]
    },
    {
     "data": {
      "text/plain": [
       "Loan_ID               0\n",
       "Gender               13\n",
       "Married               3\n",
       "Dependents           15\n",
       "Education             0\n",
       "Self_Employed        32\n",
       "ApplicantIncome       0\n",
       "CoapplicantIncome     0\n",
       "LoanAmount           22\n",
       "Loan_Amount_Term     14\n",
       "Credit_History       50\n",
       "Property_Area         0\n",
       "Loan_Status           0\n",
       "dtype: int64"
      ]
     },
     "execution_count": 5,
     "metadata": {},
     "output_type": "execute_result"
    }
   ],
   "source": [
    "print('Let''s have a look on missing values:\\n')\n",
    "df.isna().sum()"
   ]
  },
  {
   "cell_type": "code",
   "execution_count": 6,
   "metadata": {},
   "outputs": [],
   "source": [
    "#Loan_ID is useless.\n",
    "df.drop(labels='Loan_ID',axis=1,inplace=True)"
   ]
  },
  {
   "cell_type": "markdown",
   "metadata": {},
   "source": [
    "Categorical columns in more details"
   ]
  },
  {
   "cell_type": "code",
   "execution_count": 7,
   "metadata": {},
   "outputs": [
    {
     "data": {
      "image/png": "[encoded data removed]",
      "text/plain": [
       "<Figure size 1080x1440 with 7 Axes>"
      ]
     },
     "metadata": {
      "needs_background": "light"
     },
     "output_type": "display_data"
    }
   ],
   "source": [
    "plt.figure(figsize=(15,20))\n",
    "c = 1\n",
    "for i in df.columns:\n",
    "    if(df[i].dtype=='object'):\n",
    "        plt.subplot(4,4,c)\n",
    "        df[i].value_counts().plot(kind='bar',title=i,grid=True)\n",
    "        c = c+1"
   ]
  },
  {
   "cell_type": "markdown",
   "metadata": {},
   "source": [
    "Numerical columns in more details"
   ]
  },
  {
   "cell_type": "code",
   "execution_count": 8,
   "metadata": {},
   "outputs": [
    {
     "data": {
      "image/png": "[encoded data removed]",
      "text/plain": [
       "<Figure size 1080x864 with 5 Axes>"
      ]
     },
     "metadata": {
      "needs_background": "light"
     },
     "output_type": "display_data"
    }
   ],
   "source": [
    "plt.figure(figsize=(15,12))\n",
    "c = 1\n",
    "for i in df.columns:\n",
    "    if(df[i].dtype!='object'):\n",
    "        plt.subplot(3,3,c)\n",
    "        df[i].plot(kind='hist',title=i, grid=True, color='magenta')\n",
    "        c = c+1"
   ]
  },
  {
   "cell_type": "code",
   "execution_count": 9,
   "metadata": {},
   "outputs": [
    {
     "data": {
      "text/html": [
       "<div>\n",
       "<style scoped>\n",
       "    .dataframe tbody tr th:only-of-type {\n",
       "        vertical-align: middle;\n",
       "    }\n",
       "\n",
       "    .dataframe tbody tr th {\n",
       "        vertical-align: top;\n",
       "    }\n",
       "\n",
       "    .dataframe thead th {\n",
       "        text-align: right;\n",
       "    }\n",
       "</style>\n",
       "<table border=\"1\" class=\"dataframe\">\n",
       "  <thead>\n",
       "    <tr style=\"text-align: right;\">\n",
       "      <th></th>\n",
       "      <th>Gender</th>\n",
       "      <th>Married</th>\n",
       "      <th>Dependents</th>\n",
       "      <th>Education</th>\n",
       "      <th>Self_Employed</th>\n",
       "      <th>ApplicantIncome</th>\n",
       "      <th>CoapplicantIncome</th>\n",
       "      <th>LoanAmount</th>\n",
       "      <th>Loan_Amount_Term</th>\n",
       "      <th>Credit_History</th>\n",
       "      <th>Property_Area</th>\n",
       "      <th>Loan_Status</th>\n",
       "    </tr>\n",
       "  </thead>\n",
       "  <tbody>\n",
       "    <tr>\n",
       "      <th>0</th>\n",
       "      <td>Male</td>\n",
       "      <td>No</td>\n",
       "      <td>0</td>\n",
       "      <td>Graduate</td>\n",
       "      <td>No</td>\n",
       "      <td>5849</td>\n",
       "      <td>0.0</td>\n",
       "      <td>NaN</td>\n",
       "      <td>360.0</td>\n",
       "      <td>1.0</td>\n",
       "      <td>Urban</td>\n",
       "      <td>Y</td>\n",
       "    </tr>\n",
       "    <tr>\n",
       "      <th>1</th>\n",
       "      <td>Male</td>\n",
       "      <td>Yes</td>\n",
       "      <td>1</td>\n",
       "      <td>Graduate</td>\n",
       "      <td>No</td>\n",
       "      <td>4583</td>\n",
       "      <td>1508.0</td>\n",
       "      <td>128.0</td>\n",
       "      <td>360.0</td>\n",
       "      <td>1.0</td>\n",
       "      <td>Rural</td>\n",
       "      <td>N</td>\n",
       "    </tr>\n",
       "    <tr>\n",
       "      <th>2</th>\n",
       "      <td>Male</td>\n",
       "      <td>Yes</td>\n",
       "      <td>0</td>\n",
       "      <td>Graduate</td>\n",
       "      <td>Yes</td>\n",
       "      <td>3000</td>\n",
       "      <td>0.0</td>\n",
       "      <td>66.0</td>\n",
       "      <td>360.0</td>\n",
       "      <td>1.0</td>\n",
       "      <td>Urban</td>\n",
       "      <td>Y</td>\n",
       "    </tr>\n",
       "    <tr>\n",
       "      <th>3</th>\n",
       "      <td>Male</td>\n",
       "      <td>Yes</td>\n",
       "      <td>0</td>\n",
       "      <td>Not Graduate</td>\n",
       "      <td>No</td>\n",
       "      <td>2583</td>\n",
       "      <td>2358.0</td>\n",
       "      <td>120.0</td>\n",
       "      <td>360.0</td>\n",
       "      <td>1.0</td>\n",
       "      <td>Urban</td>\n",
       "      <td>Y</td>\n",
       "    </tr>\n",
       "    <tr>\n",
       "      <th>4</th>\n",
       "      <td>Male</td>\n",
       "      <td>No</td>\n",
       "      <td>0</td>\n",
       "      <td>Graduate</td>\n",
       "      <td>No</td>\n",
       "      <td>6000</td>\n",
       "      <td>0.0</td>\n",
       "      <td>141.0</td>\n",
       "      <td>360.0</td>\n",
       "      <td>1.0</td>\n",
       "      <td>Urban</td>\n",
       "      <td>Y</td>\n",
       "    </tr>\n",
       "  </tbody>\n",
       "</table>\n",
       "</div>"
      ],
      "text/plain": [
       "  Gender Married Dependents     Education Self_Employed  ApplicantIncome  \\\n",
       "0   Male      No          0      Graduate            No             5849   \n",
       "1   Male     Yes          1      Graduate            No             4583   \n",
       "2   Male     Yes          0      Graduate           Yes             3000   \n",
       "3   Male     Yes          0  Not Graduate            No             2583   \n",
       "4   Male      No          0      Graduate            No             6000   \n",
       "\n",
       "   CoapplicantIncome  LoanAmount  Loan_Amount_Term  Credit_History  \\\n",
       "0                0.0         NaN             360.0             1.0   \n",
       "1             1508.0       128.0             360.0             1.0   \n",
       "2                0.0        66.0             360.0             1.0   \n",
       "3             2358.0       120.0             360.0             1.0   \n",
       "4                0.0       141.0             360.0             1.0   \n",
       "\n",
       "  Property_Area Loan_Status  \n",
       "0         Urban           Y  \n",
       "1         Rural           N  \n",
       "2         Urban           Y  \n",
       "3         Urban           Y  \n",
       "4         Urban           Y  "
      ]
     },
     "execution_count": 9,
     "metadata": {},
     "output_type": "execute_result"
    }
   ],
   "source": [
    "#create a copy of df to transform the qualitative data into numeric\n",
    "df2 = df.copy()\n",
    "df2.head()"
   ]
  },
  {
   "cell_type": "markdown",
   "metadata": {},
   "source": [
    "Since we have missing values, we need to fill them.\n",
    "\n",
    "For non-numerical data, I use the __most frequent__ strategy and the __mean__ value for other columns.\n",
    "\n",
    "After the transformation, no missing data as we can see below."
   ]
  },
  {
   "cell_type": "code",
   "execution_count": 10,
   "metadata": {},
   "outputs": [],
   "source": [
    "for i in df2.columns:    \n",
    "    try:\n",
    "        imputer = SimpleImputer(strategy='mean')\n",
    "        df2[i] = imputer.fit_transform(df2[i].values.reshape(-1,1))\n",
    "    except:\n",
    "        imputer = SimpleImputer(strategy='most_frequent')\n",
    "        df2[i] = imputer.fit_transform(df2[i].values.reshape(-1,1))"
   ]
  },
  {
   "cell_type": "code",
   "execution_count": 11,
   "metadata": {},
   "outputs": [
    {
     "data": {
      "text/plain": [
       "Gender               0\n",
       "Married              0\n",
       "Dependents           0\n",
       "Education            0\n",
       "Self_Employed        0\n",
       "ApplicantIncome      0\n",
       "CoapplicantIncome    0\n",
       "LoanAmount           0\n",
       "Loan_Amount_Term     0\n",
       "Credit_History       0\n",
       "Property_Area        0\n",
       "Loan_Status          0\n",
       "dtype: int64"
      ]
     },
     "execution_count": 11,
     "metadata": {},
     "output_type": "execute_result"
    }
   ],
   "source": [
    "df2.isna().sum()"
   ]
  },
  {
   "cell_type": "markdown",
   "metadata": {},
   "source": [
    "Below are the correlation matrix and the pairplot for numeric values"
   ]
  },
  {
   "cell_type": "code",
   "execution_count": 12,
   "metadata": {},
   "outputs": [
    {
     "data": {
      "image/png": "[encoded data removed]",
      "text/plain": [
       "<Figure size 1080x720 with 2 Axes>"
      ]
     },
     "metadata": {
      "needs_background": "light"
     },
     "output_type": "display_data"
    }
   ],
   "source": [
    "plt.figure(figsize=(15,10))\n",
    "sns.heatmap(df2.corr(),annot=True);"
   ]
  },
  {
   "cell_type": "code",
   "execution_count": 13,
   "metadata": {},
   "outputs": [
    {
     "data": {
      "image/png": "[encoded data removed]",
      "text/plain": [
       "<Figure size 788.75x720 with 30 Axes>"
      ]
     },
     "metadata": {
      "needs_background": "light"
     },
     "output_type": "display_data"
    }
   ],
   "source": [
    "sns.pairplot(df2, hue='Loan_Status', height=2);"
   ]
  },
  {
   "cell_type": "markdown",
   "metadata": {},
   "source": [
    "Exploring the presence of outliers\n",
    "\n",
    "It clearly appears that some of the features have some outliers"
   ]
  },
  {
   "cell_type": "code",
   "execution_count": 14,
   "metadata": {},
   "outputs": [
    {
     "data": {
      "image/png": "[encoded data removed]",
      "text/plain": [
       "<Figure size 720x576 with 2 Axes>"
      ]
     },
     "metadata": {
      "needs_background": "light"
     },
     "output_type": "display_data"
    }
   ],
   "source": [
    "plt.figure(figsize=(10,8))\n",
    "plt.subplot(1,2,1)\n",
    "sns.boxplot(data=df2[['ApplicantIncome','CoapplicantIncome']]);\n",
    "plt.subplot(1,2,2)\n",
    "sns.boxplot(data=df2[['LoanAmount','Loan_Amount_Term','Credit_History']]);"
   ]
  },
  {
   "cell_type": "code",
   "execution_count": 15,
   "metadata": {},
   "outputs": [
    {
     "data": {
      "text/html": [
       "<div>\n",
       "<style scoped>\n",
       "    .dataframe tbody tr th:only-of-type {\n",
       "        vertical-align: middle;\n",
       "    }\n",
       "\n",
       "    .dataframe tbody tr th {\n",
       "        vertical-align: top;\n",
       "    }\n",
       "\n",
       "    .dataframe thead th {\n",
       "        text-align: right;\n",
       "    }\n",
       "</style>\n",
       "<table border=\"1\" class=\"dataframe\">\n",
       "  <thead>\n",
       "    <tr style=\"text-align: right;\">\n",
       "      <th></th>\n",
       "      <th>Gender</th>\n",
       "      <th>Married</th>\n",
       "      <th>Dependents</th>\n",
       "      <th>Education</th>\n",
       "      <th>Self_Employed</th>\n",
       "      <th>ApplicantIncome</th>\n",
       "      <th>CoapplicantIncome</th>\n",
       "      <th>LoanAmount</th>\n",
       "      <th>Loan_Amount_Term</th>\n",
       "      <th>Credit_History</th>\n",
       "      <th>Property_Area</th>\n",
       "      <th>Loan_Status</th>\n",
       "    </tr>\n",
       "  </thead>\n",
       "  <tbody>\n",
       "    <tr>\n",
       "      <th>409</th>\n",
       "      <td>Male</td>\n",
       "      <td>Yes</td>\n",
       "      <td>3+</td>\n",
       "      <td>Graduate</td>\n",
       "      <td>No</td>\n",
       "      <td>81000.0</td>\n",
       "      <td>0.0</td>\n",
       "      <td>360.0</td>\n",
       "      <td>360.0</td>\n",
       "      <td>0.0</td>\n",
       "      <td>Rural</td>\n",
       "      <td>N</td>\n",
       "    </tr>\n",
       "  </tbody>\n",
       "</table>\n",
       "</div>"
      ],
      "text/plain": [
       "    Gender Married Dependents Education Self_Employed  ApplicantIncome  \\\n",
       "409   Male     Yes         3+  Graduate            No          81000.0   \n",
       "\n",
       "     CoapplicantIncome  LoanAmount  Loan_Amount_Term  Credit_History  \\\n",
       "409                0.0       360.0             360.0             0.0   \n",
       "\n",
       "    Property_Area Loan_Status  \n",
       "409         Rural           N  "
      ]
     },
     "execution_count": 15,
     "metadata": {},
     "output_type": "execute_result"
    }
   ],
   "source": [
    "df2[df2.ApplicantIncome==df2.ApplicantIncome.max()]"
   ]
  },
  {
   "cell_type": "markdown",
   "metadata": {},
   "source": [
    "Encoding Non-numerical features to categorical."
   ]
  },
  {
   "cell_type": "code",
   "execution_count": 16,
   "metadata": {},
   "outputs": [
    {
     "data": {
      "text/html": [
       "<div>\n",
       "<style scoped>\n",
       "    .dataframe tbody tr th:only-of-type {\n",
       "        vertical-align: middle;\n",
       "    }\n",
       "\n",
       "    .dataframe tbody tr th {\n",
       "        vertical-align: top;\n",
       "    }\n",
       "\n",
       "    .dataframe thead th {\n",
       "        text-align: right;\n",
       "    }\n",
       "</style>\n",
       "<table border=\"1\" class=\"dataframe\">\n",
       "  <thead>\n",
       "    <tr style=\"text-align: right;\">\n",
       "      <th></th>\n",
       "      <th>Gender</th>\n",
       "      <th>Married</th>\n",
       "      <th>Dependents</th>\n",
       "      <th>Education</th>\n",
       "      <th>Self_Employed</th>\n",
       "      <th>ApplicantIncome</th>\n",
       "      <th>CoapplicantIncome</th>\n",
       "      <th>LoanAmount</th>\n",
       "      <th>Loan_Amount_Term</th>\n",
       "      <th>Credit_History</th>\n",
       "      <th>Property_Area</th>\n",
       "      <th>Loan_Status</th>\n",
       "    </tr>\n",
       "  </thead>\n",
       "  <tbody>\n",
       "    <tr>\n",
       "      <th>0</th>\n",
       "      <td>1</td>\n",
       "      <td>0</td>\n",
       "      <td>0</td>\n",
       "      <td>0</td>\n",
       "      <td>0</td>\n",
       "      <td>5849.0</td>\n",
       "      <td>0.0</td>\n",
       "      <td>146.412162</td>\n",
       "      <td>360.0</td>\n",
       "      <td>1.0</td>\n",
       "      <td>2</td>\n",
       "      <td>1</td>\n",
       "    </tr>\n",
       "    <tr>\n",
       "      <th>1</th>\n",
       "      <td>1</td>\n",
       "      <td>1</td>\n",
       "      <td>1</td>\n",
       "      <td>0</td>\n",
       "      <td>0</td>\n",
       "      <td>4583.0</td>\n",
       "      <td>1508.0</td>\n",
       "      <td>128.000000</td>\n",
       "      <td>360.0</td>\n",
       "      <td>1.0</td>\n",
       "      <td>0</td>\n",
       "      <td>0</td>\n",
       "    </tr>\n",
       "    <tr>\n",
       "      <th>2</th>\n",
       "      <td>1</td>\n",
       "      <td>1</td>\n",
       "      <td>0</td>\n",
       "      <td>0</td>\n",
       "      <td>1</td>\n",
       "      <td>3000.0</td>\n",
       "      <td>0.0</td>\n",
       "      <td>66.000000</td>\n",
       "      <td>360.0</td>\n",
       "      <td>1.0</td>\n",
       "      <td>2</td>\n",
       "      <td>1</td>\n",
       "    </tr>\n",
       "    <tr>\n",
       "      <th>3</th>\n",
       "      <td>1</td>\n",
       "      <td>1</td>\n",
       "      <td>0</td>\n",
       "      <td>1</td>\n",
       "      <td>0</td>\n",
       "      <td>2583.0</td>\n",
       "      <td>2358.0</td>\n",
       "      <td>120.000000</td>\n",
       "      <td>360.0</td>\n",
       "      <td>1.0</td>\n",
       "      <td>2</td>\n",
       "      <td>1</td>\n",
       "    </tr>\n",
       "    <tr>\n",
       "      <th>4</th>\n",
       "      <td>1</td>\n",
       "      <td>0</td>\n",
       "      <td>0</td>\n",
       "      <td>0</td>\n",
       "      <td>0</td>\n",
       "      <td>6000.0</td>\n",
       "      <td>0.0</td>\n",
       "      <td>141.000000</td>\n",
       "      <td>360.0</td>\n",
       "      <td>1.0</td>\n",
       "      <td>2</td>\n",
       "      <td>1</td>\n",
       "    </tr>\n",
       "  </tbody>\n",
       "</table>\n",
       "</div>"
      ],
      "text/plain": [
       "   Gender  Married  Dependents  Education  Self_Employed  ApplicantIncome  \\\n",
       "0       1        0           0          0              0           5849.0   \n",
       "1       1        1           1          0              0           4583.0   \n",
       "2       1        1           0          0              1           3000.0   \n",
       "3       1        1           0          1              0           2583.0   \n",
       "4       1        0           0          0              0           6000.0   \n",
       "\n",
       "   CoapplicantIncome  LoanAmount  Loan_Amount_Term  Credit_History  \\\n",
       "0                0.0  146.412162             360.0             1.0   \n",
       "1             1508.0  128.000000             360.0             1.0   \n",
       "2                0.0   66.000000             360.0             1.0   \n",
       "3             2358.0  120.000000             360.0             1.0   \n",
       "4                0.0  141.000000             360.0             1.0   \n",
       "\n",
       "   Property_Area  Loan_Status  \n",
       "0              2            1  \n",
       "1              0            0  \n",
       "2              2            1  \n",
       "3              2            1  \n",
       "4              2            1  "
      ]
     },
     "execution_count": 16,
     "metadata": {},
     "output_type": "execute_result"
    }
   ],
   "source": [
    "le = LabelEncoder()\n",
    "for i in df2.columns:\n",
    "    if(df2[i].dtype=='object'):\n",
    "        df2[i] = le.fit_transform(df2[i])\n",
    "\n",
    "df2.head()"
   ]
  },
  {
   "cell_type": "code",
   "execution_count": 17,
   "metadata": {},
   "outputs": [],
   "source": [
    "#sc = StandardScaler()\n",
    "#df2.LoanAmount = sc.fit_transform(df2.LoanAmount.values.reshape(-1,1))"
   ]
  },
  {
   "cell_type": "markdown",
   "metadata": {},
   "source": [
    "Selecting features and target"
   ]
  },
  {
   "cell_type": "code",
   "execution_count": 18,
   "metadata": {},
   "outputs": [],
   "source": [
    "X = df2.drop(labels='Loan_Status',axis=1)\n",
    "X = X.values\n",
    "y =df2.Loan_Status.values"
   ]
  },
  {
   "cell_type": "code",
   "execution_count": 19,
   "metadata": {},
   "outputs": [],
   "source": [
    "X_train,X_test,y_train,y_test = train_test_split(X,y,test_size=0.20,random_state=3)"
   ]
  },
  {
   "cell_type": "code",
   "execution_count": 20,
   "metadata": {},
   "outputs": [],
   "source": [
    "from sklearn.linear_model import LogisticRegression\n",
    "from sklearn.tree import DecisionTreeClassifier\n",
    "from sklearn.naive_bayes import GaussianNB\n",
    "from sklearn.metrics import classification_report,confusion_matrix"
   ]
  },
  {
   "cell_type": "code",
   "execution_count": 21,
   "metadata": {},
   "outputs": [],
   "source": [
    "log_reg = LogisticRegression(solver='liblinear')\n",
    "dt = DecisionTreeClassifier(max_depth=5)\n",
    "nb = GaussianNB()"
   ]
  },
  {
   "cell_type": "code",
   "execution_count": 22,
   "metadata": {},
   "outputs": [],
   "source": [
    "clf = [log_reg,dt,nb]\n",
    "score_train = []\n",
    "score_test = []\n",
    "for model in clf:\n",
    "    model.fit(X_train,y_train)\n",
    "    score_train.append((model.__class__.__name__,model.score(X_train,y_train)))\n",
    "    score_test.append((model.__class__.__name__,model.score(X_test,y_test)))"
   ]
  },
  {
   "cell_type": "code",
   "execution_count": 23,
   "metadata": {},
   "outputs": [
    {
     "data": {
      "image/png": "[encoded data removed]",
      "text/plain": [
       "<Figure size 432x288 with 1 Axes>"
      ]
     },
     "metadata": {
      "needs_background": "light"
     },
     "output_type": "display_data"
    }
   ],
   "source": [
    "for s in [score_train,score_test]:\n",
    "    x = [s[i][0] for i in range(len(s))]\n",
    "    y = [s[i][1] for i in range(len(s))]\n",
    "    plt.plot(x,y,'-o')\n",
    "\n",
    "    \n",
    "plt.legend(('train','test'))\n",
    "plt.grid()\n",
    "plt.title('Scores');"
   ]
  },
  {
   "cell_type": "code",
   "execution_count": 24,
   "metadata": {},
   "outputs": [
    {
     "name": "stdout",
     "output_type": "stream",
     "text": [
      "\n",
      " Classification report for classifier LogisticRegression:\n",
      "              precision    recall  f1-score   support\n",
      "\n",
      "           0       0.86      0.43      0.57        28\n",
      "           1       0.85      0.98      0.91        95\n",
      "\n",
      "   micro avg       0.85      0.85      0.85       123\n",
      "   macro avg       0.86      0.70      0.74       123\n",
      "weighted avg       0.85      0.85      0.83       123\n",
      "\n",
      "\n",
      "Confusion matrix:\n",
      "[[12 16]\n",
      " [ 2 93]]\n",
      "-----------------------------------------------------------------\n",
      "\n",
      " Classification report for classifier DecisionTreeClassifier:\n",
      "              precision    recall  f1-score   support\n",
      "\n",
      "           0       0.81      0.46      0.59        28\n",
      "           1       0.86      0.97      0.91        95\n",
      "\n",
      "   micro avg       0.85      0.85      0.85       123\n",
      "   macro avg       0.84      0.72      0.75       123\n",
      "weighted avg       0.85      0.85      0.84       123\n",
      "\n",
      "\n",
      "Confusion matrix:\n",
      "[[13 15]\n",
      " [ 3 92]]\n",
      "-----------------------------------------------------------------\n",
      "\n",
      " Classification report for classifier GaussianNB:\n",
      "              precision    recall  f1-score   support\n",
      "\n",
      "           0       0.92      0.39      0.55        28\n",
      "           1       0.85      0.99      0.91        95\n",
      "\n",
      "   micro avg       0.85      0.85      0.85       123\n",
      "   macro avg       0.88      0.69      0.73       123\n",
      "weighted avg       0.86      0.85      0.83       123\n",
      "\n",
      "\n",
      "Confusion matrix:\n",
      "[[11 17]\n",
      " [ 1 94]]\n",
      "-----------------------------------------------------------------\n"
     ]
    }
   ],
   "source": [
    "for model in clf:\n",
    "    print(\"\\n Classification report for classifier %s:\\n%s\\n\"\n",
    "      % (model.__class__.__name__,classification_report(y_test, model.predict(X_test))))\n",
    "    print(\"Confusion matrix:\\n%s\" % confusion_matrix(y_test, model.predict(X_test)))\n",
    "    print('-----------------------------------------------------------------')"
   ]
  },
  {
   "cell_type": "code",
   "execution_count": 25,
   "metadata": {},
   "outputs": [],
   "source": [
    "a = {'gender': '0', 'married': '0', 'dependents': '0', 'education': '0', 'employed': '0', 'appincome': '234432', 'coappincome': '0', 'amount': '569', 'term': '349', 'credit': '0', 'area': '0'}"
   ]
  },
  {
   "cell_type": "code",
   "execution_count": 42,
   "metadata": {},
   "outputs": [
    {
     "data": {
      "text/plain": [
       "numpy.ndarray"
      ]
     },
     "execution_count": 42,
     "metadata": {},
     "output_type": "execute_result"
    }
   ],
   "source": [
    "type(np.array([list(map(int,list(a.values())))]))"
   ]
  },
  {
   "cell_type": "code",
   "execution_count": null,
   "metadata": {},
   "outputs": [],
   "source": []
  },
  {
   "cell_type": "code",
   "execution_count": null,
   "metadata": {},
   "outputs": [],
   "source": []
  },
  {
   "cell_type": "code",
   "execution_count": null,
   "metadata": {},
   "outputs": [],
   "source": []
  },
  {
   "cell_type": "code",
   "execution_count": null,
   "metadata": {},
   "outputs": [],
   "source": []
  },
  {
   "cell_type": "code",
   "execution_count": 47,
   "metadata": {},
   "outputs": [
    {
     "data": {
      "text/html": [
       "<div>\n",
       "<style scoped>\n",
       "    .dataframe tbody tr th:only-of-type {\n",
       "        vertical-align: middle;\n",
       "    }\n",
       "\n",
       "    .dataframe tbody tr th {\n",
       "        vertical-align: top;\n",
       "    }\n",
       "\n",
       "    .dataframe thead th {\n",
       "        text-align: right;\n",
       "    }\n",
       "</style>\n",
       "<table border=\"1\" class=\"dataframe\">\n",
       "  <thead>\n",
       "    <tr style=\"text-align: right;\">\n",
       "      <th></th>\n",
       "      <th>Loan_ID</th>\n",
       "      <th>Gender</th>\n",
       "      <th>Married</th>\n",
       "      <th>Dependents</th>\n",
       "      <th>Education</th>\n",
       "      <th>Self_Employed</th>\n",
       "      <th>ApplicantIncome</th>\n",
       "      <th>CoapplicantIncome</th>\n",
       "      <th>LoanAmount</th>\n",
       "      <th>Loan_Amount_Term</th>\n",
       "      <th>Credit_History</th>\n",
       "      <th>Property_Area</th>\n",
       "    </tr>\n",
       "  </thead>\n",
       "  <tbody>\n",
       "    <tr>\n",
       "      <th>0</th>\n",
       "      <td>LP001015</td>\n",
       "      <td>Male</td>\n",
       "      <td>Yes</td>\n",
       "      <td>0</td>\n",
       "      <td>Graduate</td>\n",
       "      <td>No</td>\n",
       "      <td>5720</td>\n",
       "      <td>0</td>\n",
       "      <td>110.0</td>\n",
       "      <td>360.0</td>\n",
       "      <td>1.0</td>\n",
       "      <td>Urban</td>\n",
       "    </tr>\n",
       "    <tr>\n",
       "      <th>1</th>\n",
       "      <td>LP001022</td>\n",
       "      <td>Male</td>\n",
       "      <td>Yes</td>\n",
       "      <td>1</td>\n",
       "      <td>Graduate</td>\n",
       "      <td>No</td>\n",
       "      <td>3076</td>\n",
       "      <td>1500</td>\n",
       "      <td>126.0</td>\n",
       "      <td>360.0</td>\n",
       "      <td>1.0</td>\n",
       "      <td>Urban</td>\n",
       "    </tr>\n",
       "    <tr>\n",
       "      <th>2</th>\n",
       "      <td>LP001031</td>\n",
       "      <td>Male</td>\n",
       "      <td>Yes</td>\n",
       "      <td>2</td>\n",
       "      <td>Graduate</td>\n",
       "      <td>No</td>\n",
       "      <td>5000</td>\n",
       "      <td>1800</td>\n",
       "      <td>208.0</td>\n",
       "      <td>360.0</td>\n",
       "      <td>1.0</td>\n",
       "      <td>Urban</td>\n",
       "    </tr>\n",
       "    <tr>\n",
       "      <th>3</th>\n",
       "      <td>LP001035</td>\n",
       "      <td>Male</td>\n",
       "      <td>Yes</td>\n",
       "      <td>2</td>\n",
       "      <td>Graduate</td>\n",
       "      <td>No</td>\n",
       "      <td>2340</td>\n",
       "      <td>2546</td>\n",
       "      <td>100.0</td>\n",
       "      <td>360.0</td>\n",
       "      <td>NaN</td>\n",
       "      <td>Urban</td>\n",
       "    </tr>\n",
       "    <tr>\n",
       "      <th>4</th>\n",
       "      <td>LP001051</td>\n",
       "      <td>Male</td>\n",
       "      <td>No</td>\n",
       "      <td>0</td>\n",
       "      <td>Not Graduate</td>\n",
       "      <td>No</td>\n",
       "      <td>3276</td>\n",
       "      <td>0</td>\n",
       "      <td>78.0</td>\n",
       "      <td>360.0</td>\n",
       "      <td>1.0</td>\n",
       "      <td>Urban</td>\n",
       "    </tr>\n",
       "    <tr>\n",
       "      <th>5</th>\n",
       "      <td>LP001054</td>\n",
       "      <td>Male</td>\n",
       "      <td>Yes</td>\n",
       "      <td>0</td>\n",
       "      <td>Not Graduate</td>\n",
       "      <td>Yes</td>\n",
       "      <td>2165</td>\n",
       "      <td>3422</td>\n",
       "      <td>152.0</td>\n",
       "      <td>360.0</td>\n",
       "      <td>1.0</td>\n",
       "      <td>Urban</td>\n",
       "    </tr>\n",
       "    <tr>\n",
       "      <th>6</th>\n",
       "      <td>LP001055</td>\n",
       "      <td>Female</td>\n",
       "      <td>No</td>\n",
       "      <td>1</td>\n",
       "      <td>Not Graduate</td>\n",
       "      <td>No</td>\n",
       "      <td>2226</td>\n",
       "      <td>0</td>\n",
       "      <td>59.0</td>\n",
       "      <td>360.0</td>\n",
       "      <td>1.0</td>\n",
       "      <td>Semiurban</td>\n",
       "    </tr>\n",
       "    <tr>\n",
       "      <th>7</th>\n",
       "      <td>LP001056</td>\n",
       "      <td>Male</td>\n",
       "      <td>Yes</td>\n",
       "      <td>2</td>\n",
       "      <td>Not Graduate</td>\n",
       "      <td>No</td>\n",
       "      <td>3881</td>\n",
       "      <td>0</td>\n",
       "      <td>147.0</td>\n",
       "      <td>360.0</td>\n",
       "      <td>0.0</td>\n",
       "      <td>Rural</td>\n",
       "    </tr>\n",
       "    <tr>\n",
       "      <th>8</th>\n",
       "      <td>LP001059</td>\n",
       "      <td>Male</td>\n",
       "      <td>Yes</td>\n",
       "      <td>2</td>\n",
       "      <td>Graduate</td>\n",
       "      <td>NaN</td>\n",
       "      <td>13633</td>\n",
       "      <td>0</td>\n",
       "      <td>280.0</td>\n",
       "      <td>240.0</td>\n",
       "      <td>1.0</td>\n",
       "      <td>Urban</td>\n",
       "    </tr>\n",
       "    <tr>\n",
       "      <th>9</th>\n",
       "      <td>LP001067</td>\n",
       "      <td>Male</td>\n",
       "      <td>No</td>\n",
       "      <td>0</td>\n",
       "      <td>Not Graduate</td>\n",
       "      <td>No</td>\n",
       "      <td>2400</td>\n",
       "      <td>2400</td>\n",
       "      <td>123.0</td>\n",
       "      <td>360.0</td>\n",
       "      <td>1.0</td>\n",
       "      <td>Semiurban</td>\n",
       "    </tr>\n",
       "  </tbody>\n",
       "</table>\n",
       "</div>"
      ],
      "text/plain": [
       "    Loan_ID  Gender Married Dependents     Education Self_Employed  \\\n",
       "0  LP001015    Male     Yes          0      Graduate            No   \n",
       "1  LP001022    Male     Yes          1      Graduate            No   \n",
       "2  LP001031    Male     Yes          2      Graduate            No   \n",
       "3  LP001035    Male     Yes          2      Graduate            No   \n",
       "4  LP001051    Male      No          0  Not Graduate            No   \n",
       "5  LP001054    Male     Yes          0  Not Graduate           Yes   \n",
       "6  LP001055  Female      No          1  Not Graduate            No   \n",
       "7  LP001056    Male     Yes          2  Not Graduate            No   \n",
       "8  LP001059    Male     Yes          2      Graduate           NaN   \n",
       "9  LP001067    Male      No          0  Not Graduate            No   \n",
       "\n",
       "   ApplicantIncome  CoapplicantIncome  LoanAmount  Loan_Amount_Term  \\\n",
       "0             5720                  0       110.0             360.0   \n",
       "1             3076               1500       126.0             360.0   \n",
       "2             5000               1800       208.0             360.0   \n",
       "3             2340               2546       100.0             360.0   \n",
       "4             3276                  0        78.0             360.0   \n",
       "5             2165               3422       152.0             360.0   \n",
       "6             2226                  0        59.0             360.0   \n",
       "7             3881                  0       147.0             360.0   \n",
       "8            13633                  0       280.0             240.0   \n",
       "9             2400               2400       123.0             360.0   \n",
       "\n",
       "   Credit_History Property_Area  \n",
       "0             1.0         Urban  \n",
       "1             1.0         Urban  \n",
       "2             1.0         Urban  \n",
       "3             NaN         Urban  \n",
       "4             1.0         Urban  \n",
       "5             1.0         Urban  \n",
       "6             1.0     Semiurban  \n",
       "7             0.0         Rural  \n",
       "8             1.0         Urban  \n",
       "9             1.0     Semiurban  "
      ]
     },
     "execution_count": 47,
     "metadata": {},
     "output_type": "execute_result"
    }
   ],
   "source": [
    "## reading test sample\n",
    "test = pd.read_csv('test_loan.csv')\n",
    "test.head(10)"
   ]
  },
  {
   "cell_type": "code",
   "execution_count": 48,
   "metadata": {},
   "outputs": [],
   "source": [
    "# dropping the first column\n",
    "test.drop(labels='Loan_ID',axis=1,inplace=True)"
   ]
  },
  {
   "cell_type": "code",
   "execution_count": 49,
   "metadata": {},
   "outputs": [],
   "source": [
    "# imputing missing values\n",
    "for i in test.columns:    \n",
    "    try:\n",
    "        imputer = SimpleImputer(strategy='mean')\n",
    "        test[i] = imputer.fit_transform(df2[i].values.reshape(-1,1))\n",
    "    except:\n",
    "        imputer = SimpleImputer(strategy='most_frequent')\n",
    "        test[i] = imputer.fit_transform(test[i].values.reshape(-1,1))"
   ]
  },
  {
   "cell_type": "code",
   "execution_count": 50,
   "metadata": {},
   "outputs": [
    {
     "data": {
      "text/html": [
       "<div>\n",
       "<style scoped>\n",
       "    .dataframe tbody tr th:only-of-type {\n",
       "        vertical-align: middle;\n",
       "    }\n",
       "\n",
       "    .dataframe tbody tr th {\n",
       "        vertical-align: top;\n",
       "    }\n",
       "\n",
       "    .dataframe thead th {\n",
       "        text-align: right;\n",
       "    }\n",
       "</style>\n",
       "<table border=\"1\" class=\"dataframe\">\n",
       "  <thead>\n",
       "    <tr style=\"text-align: right;\">\n",
       "      <th></th>\n",
       "      <th>Gender</th>\n",
       "      <th>Married</th>\n",
       "      <th>Dependents</th>\n",
       "      <th>Education</th>\n",
       "      <th>Self_Employed</th>\n",
       "      <th>ApplicantIncome</th>\n",
       "      <th>CoapplicantIncome</th>\n",
       "      <th>LoanAmount</th>\n",
       "      <th>Loan_Amount_Term</th>\n",
       "      <th>Credit_History</th>\n",
       "      <th>Property_Area</th>\n",
       "    </tr>\n",
       "  </thead>\n",
       "  <tbody>\n",
       "    <tr>\n",
       "      <th>0</th>\n",
       "      <td>1</td>\n",
       "      <td>1</td>\n",
       "      <td>0</td>\n",
       "      <td>0</td>\n",
       "      <td>0</td>\n",
       "      <td>5720</td>\n",
       "      <td>0</td>\n",
       "      <td>110.0</td>\n",
       "      <td>360.0</td>\n",
       "      <td>1.0</td>\n",
       "      <td>2</td>\n",
       "    </tr>\n",
       "    <tr>\n",
       "      <th>1</th>\n",
       "      <td>1</td>\n",
       "      <td>1</td>\n",
       "      <td>1</td>\n",
       "      <td>0</td>\n",
       "      <td>0</td>\n",
       "      <td>3076</td>\n",
       "      <td>1500</td>\n",
       "      <td>126.0</td>\n",
       "      <td>360.0</td>\n",
       "      <td>1.0</td>\n",
       "      <td>2</td>\n",
       "    </tr>\n",
       "    <tr>\n",
       "      <th>2</th>\n",
       "      <td>1</td>\n",
       "      <td>1</td>\n",
       "      <td>2</td>\n",
       "      <td>0</td>\n",
       "      <td>0</td>\n",
       "      <td>5000</td>\n",
       "      <td>1800</td>\n",
       "      <td>208.0</td>\n",
       "      <td>360.0</td>\n",
       "      <td>1.0</td>\n",
       "      <td>2</td>\n",
       "    </tr>\n",
       "    <tr>\n",
       "      <th>3</th>\n",
       "      <td>1</td>\n",
       "      <td>1</td>\n",
       "      <td>2</td>\n",
       "      <td>0</td>\n",
       "      <td>0</td>\n",
       "      <td>2340</td>\n",
       "      <td>2546</td>\n",
       "      <td>100.0</td>\n",
       "      <td>360.0</td>\n",
       "      <td>1.0</td>\n",
       "      <td>2</td>\n",
       "    </tr>\n",
       "    <tr>\n",
       "      <th>4</th>\n",
       "      <td>1</td>\n",
       "      <td>0</td>\n",
       "      <td>0</td>\n",
       "      <td>1</td>\n",
       "      <td>0</td>\n",
       "      <td>3276</td>\n",
       "      <td>0</td>\n",
       "      <td>78.0</td>\n",
       "      <td>360.0</td>\n",
       "      <td>1.0</td>\n",
       "      <td>2</td>\n",
       "    </tr>\n",
       "    <tr>\n",
       "      <th>5</th>\n",
       "      <td>1</td>\n",
       "      <td>1</td>\n",
       "      <td>0</td>\n",
       "      <td>1</td>\n",
       "      <td>1</td>\n",
       "      <td>2165</td>\n",
       "      <td>3422</td>\n",
       "      <td>152.0</td>\n",
       "      <td>360.0</td>\n",
       "      <td>1.0</td>\n",
       "      <td>2</td>\n",
       "    </tr>\n",
       "    <tr>\n",
       "      <th>6</th>\n",
       "      <td>0</td>\n",
       "      <td>0</td>\n",
       "      <td>1</td>\n",
       "      <td>1</td>\n",
       "      <td>0</td>\n",
       "      <td>2226</td>\n",
       "      <td>0</td>\n",
       "      <td>59.0</td>\n",
       "      <td>360.0</td>\n",
       "      <td>1.0</td>\n",
       "      <td>1</td>\n",
       "    </tr>\n",
       "    <tr>\n",
       "      <th>7</th>\n",
       "      <td>1</td>\n",
       "      <td>1</td>\n",
       "      <td>2</td>\n",
       "      <td>1</td>\n",
       "      <td>0</td>\n",
       "      <td>3881</td>\n",
       "      <td>0</td>\n",
       "      <td>147.0</td>\n",
       "      <td>360.0</td>\n",
       "      <td>0.0</td>\n",
       "      <td>0</td>\n",
       "    </tr>\n",
       "    <tr>\n",
       "      <th>8</th>\n",
       "      <td>1</td>\n",
       "      <td>1</td>\n",
       "      <td>2</td>\n",
       "      <td>0</td>\n",
       "      <td>0</td>\n",
       "      <td>13633</td>\n",
       "      <td>0</td>\n",
       "      <td>280.0</td>\n",
       "      <td>240.0</td>\n",
       "      <td>1.0</td>\n",
       "      <td>2</td>\n",
       "    </tr>\n",
       "    <tr>\n",
       "      <th>9</th>\n",
       "      <td>1</td>\n",
       "      <td>0</td>\n",
       "      <td>0</td>\n",
       "      <td>1</td>\n",
       "      <td>0</td>\n",
       "      <td>2400</td>\n",
       "      <td>2400</td>\n",
       "      <td>123.0</td>\n",
       "      <td>360.0</td>\n",
       "      <td>1.0</td>\n",
       "      <td>1</td>\n",
       "    </tr>\n",
       "  </tbody>\n",
       "</table>\n",
       "</div>"
      ],
      "text/plain": [
       "   Gender  Married  Dependents  Education  Self_Employed  ApplicantIncome  \\\n",
       "0       1        1           0          0              0             5720   \n",
       "1       1        1           1          0              0             3076   \n",
       "2       1        1           2          0              0             5000   \n",
       "3       1        1           2          0              0             2340   \n",
       "4       1        0           0          1              0             3276   \n",
       "5       1        1           0          1              1             2165   \n",
       "6       0        0           1          1              0             2226   \n",
       "7       1        1           2          1              0             3881   \n",
       "8       1        1           2          0              0            13633   \n",
       "9       1        0           0          1              0             2400   \n",
       "\n",
       "   CoapplicantIncome  LoanAmount  Loan_Amount_Term  Credit_History  \\\n",
       "0                  0       110.0             360.0             1.0   \n",
       "1               1500       126.0             360.0             1.0   \n",
       "2               1800       208.0             360.0             1.0   \n",
       "3               2546       100.0             360.0             1.0   \n",
       "4                  0        78.0             360.0             1.0   \n",
       "5               3422       152.0             360.0             1.0   \n",
       "6                  0        59.0             360.0             1.0   \n",
       "7                  0       147.0             360.0             0.0   \n",
       "8                  0       280.0             240.0             1.0   \n",
       "9               2400       123.0             360.0             1.0   \n",
       "\n",
       "   Property_Area  \n",
       "0              2  \n",
       "1              2  \n",
       "2              2  \n",
       "3              2  \n",
       "4              2  \n",
       "5              2  \n",
       "6              1  \n",
       "7              0  \n",
       "8              2  \n",
       "9              1  "
      ]
     },
     "execution_count": 50,
     "metadata": {},
     "output_type": "execute_result"
    }
   ],
   "source": [
    "# Encoding non-numeric column\n",
    "le = LabelEncoder()\n",
    "for i in test.columns:\n",
    "    if(test[i].dtype=='object'):\n",
    "        test[i] = le.fit_transform(test[i])\n",
    "\n",
    "test.head(10)"
   ]
  },
  {
   "cell_type": "code",
   "execution_count": 225,
   "metadata": {},
   "outputs": [],
   "source": [
    "#test = test.values\n",
    "y_pred_proba = log_reg.predict_proba(test)\n",
    "y_pred = log_reg.predict(test)    "
   ]
  },
  {
   "cell_type": "code",
   "execution_count": 226,
   "metadata": {},
   "outputs": [
    {
     "name": "stdout",
     "output_type": "stream",
     "text": [
      "FOLLOWING IS THE COUNTPLOT DISPLAYING THE PREDICTIONS - \n"
     ]
    },
    {
     "data": {
      "image/png": "[encoded data removed]",
      "text/plain": [
       "<Figure size 864x432 with 1 Axes>"
      ]
     },
     "metadata": {},
     "output_type": "display_data"
    }
   ],
   "source": [
    "sns.set(style=\"darkgrid\")\n",
    "plt.figure(figsize=(12,6))\n",
    "ax = sns.countplot(x=y_pred)\n",
    "ax.set_xticklabels([\"Loan Not Approved\",\"Loan Approved\"])\n",
    "print (\"FOLLOWING IS THE COUNTPLOT DISPLAYING THE PREDICTIONS - \")"
   ]
  },
  {
   "cell_type": "code",
   "execution_count": 230,
   "metadata": {},
   "outputs": [
    {
     "data": {
      "text/html": [
       "<div>\n",
       "<style scoped>\n",
       "    .dataframe tbody tr th:only-of-type {\n",
       "        vertical-align: middle;\n",
       "    }\n",
       "\n",
       "    .dataframe tbody tr th {\n",
       "        vertical-align: top;\n",
       "    }\n",
       "\n",
       "    .dataframe thead th {\n",
       "        text-align: right;\n",
       "    }\n",
       "</style>\n",
       "<table border=\"1\" class=\"dataframe\">\n",
       "  <thead>\n",
       "    <tr style=\"text-align: right;\">\n",
       "      <th></th>\n",
       "      <th>Loan_ID</th>\n",
       "      <th>Gender</th>\n",
       "      <th>Married</th>\n",
       "      <th>Dependents</th>\n",
       "      <th>Education</th>\n",
       "      <th>Self_Employed</th>\n",
       "      <th>ApplicantIncome</th>\n",
       "      <th>CoapplicantIncome</th>\n",
       "      <th>LoanAmount</th>\n",
       "      <th>Loan_Amount_Term</th>\n",
       "      <th>Credit_History</th>\n",
       "      <th>Property_Area</th>\n",
       "      <th>Loan_Status</th>\n",
       "    </tr>\n",
       "  </thead>\n",
       "  <tbody>\n",
       "    <tr>\n",
       "      <th>0</th>\n",
       "      <td>LP001015</td>\n",
       "      <td>Male</td>\n",
       "      <td>Yes</td>\n",
       "      <td>0</td>\n",
       "      <td>Graduate</td>\n",
       "      <td>No</td>\n",
       "      <td>5720</td>\n",
       "      <td>0</td>\n",
       "      <td>110.0</td>\n",
       "      <td>360.0</td>\n",
       "      <td>1.0</td>\n",
       "      <td>Urban</td>\n",
       "      <td>1</td>\n",
       "    </tr>\n",
       "    <tr>\n",
       "      <th>1</th>\n",
       "      <td>LP001022</td>\n",
       "      <td>Male</td>\n",
       "      <td>Yes</td>\n",
       "      <td>1</td>\n",
       "      <td>Graduate</td>\n",
       "      <td>No</td>\n",
       "      <td>3076</td>\n",
       "      <td>1500</td>\n",
       "      <td>126.0</td>\n",
       "      <td>360.0</td>\n",
       "      <td>1.0</td>\n",
       "      <td>Urban</td>\n",
       "      <td>1</td>\n",
       "    </tr>\n",
       "    <tr>\n",
       "      <th>2</th>\n",
       "      <td>LP001031</td>\n",
       "      <td>Male</td>\n",
       "      <td>Yes</td>\n",
       "      <td>2</td>\n",
       "      <td>Graduate</td>\n",
       "      <td>No</td>\n",
       "      <td>5000</td>\n",
       "      <td>1800</td>\n",
       "      <td>208.0</td>\n",
       "      <td>360.0</td>\n",
       "      <td>1.0</td>\n",
       "      <td>Urban</td>\n",
       "      <td>1</td>\n",
       "    </tr>\n",
       "    <tr>\n",
       "      <th>3</th>\n",
       "      <td>LP001035</td>\n",
       "      <td>Male</td>\n",
       "      <td>Yes</td>\n",
       "      <td>2</td>\n",
       "      <td>Graduate</td>\n",
       "      <td>No</td>\n",
       "      <td>2340</td>\n",
       "      <td>2546</td>\n",
       "      <td>100.0</td>\n",
       "      <td>360.0</td>\n",
       "      <td>NaN</td>\n",
       "      <td>Urban</td>\n",
       "      <td>1</td>\n",
       "    </tr>\n",
       "    <tr>\n",
       "      <th>4</th>\n",
       "      <td>LP001051</td>\n",
       "      <td>Male</td>\n",
       "      <td>No</td>\n",
       "      <td>0</td>\n",
       "      <td>Not Graduate</td>\n",
       "      <td>No</td>\n",
       "      <td>3276</td>\n",
       "      <td>0</td>\n",
       "      <td>78.0</td>\n",
       "      <td>360.0</td>\n",
       "      <td>1.0</td>\n",
       "      <td>Urban</td>\n",
       "      <td>1</td>\n",
       "    </tr>\n",
       "  </tbody>\n",
       "</table>\n",
       "</div>"
      ],
      "text/plain": [
       "    Loan_ID Gender Married Dependents     Education Self_Employed  \\\n",
       "0  LP001015   Male     Yes          0      Graduate            No   \n",
       "1  LP001022   Male     Yes          1      Graduate            No   \n",
       "2  LP001031   Male     Yes          2      Graduate            No   \n",
       "3  LP001035   Male     Yes          2      Graduate            No   \n",
       "4  LP001051   Male      No          0  Not Graduate            No   \n",
       "\n",
       "   ApplicantIncome  CoapplicantIncome  LoanAmount  Loan_Amount_Term  \\\n",
       "0             5720                  0       110.0             360.0   \n",
       "1             3076               1500       126.0             360.0   \n",
       "2             5000               1800       208.0             360.0   \n",
       "3             2340               2546       100.0             360.0   \n",
       "4             3276                  0        78.0             360.0   \n",
       "\n",
       "   Credit_History Property_Area  Loan_Status  \n",
       "0             1.0         Urban            1  \n",
       "1             1.0         Urban            1  \n",
       "2             1.0         Urban            1  \n",
       "3             NaN         Urban            1  \n",
       "4             1.0         Urban            1  "
      ]
     },
     "execution_count": 230,
     "metadata": {},
     "output_type": "execute_result"
    }
   ],
   "source": [
    "output = pd.read_csv('test_loan.csv')\n",
    "output['Loan_Status'] =  pd.Series(y_pred)\n",
    "output.head()"
   ]
  },
  {
   "cell_type": "code",
   "execution_count": 231,
   "metadata": {},
   "outputs": [
    {
     "data": {
      "text/plain": [
       "array([1, 1, 1, 1, 1, 1, 1, 0, 1, 1, 1, 1, 1, 0, 1, 1, 1, 1, 1, 1, 1, 1,\n",
       "       1, 1, 1, 0, 1, 1, 1, 1, 1, 1, 1, 1, 1, 0, 1, 1, 1, 1, 1, 1, 1, 1,\n",
       "       1, 1, 1, 1, 1, 1, 1, 1, 1, 1, 1, 0, 1, 1, 0, 1, 1, 1, 1, 0, 1, 1,\n",
       "       0, 0, 1, 0, 1, 1, 1, 1, 1, 1, 1, 1, 1, 1, 0, 1, 0, 1, 0, 1, 1, 1,\n",
       "       1, 1, 1, 1, 1, 1, 0, 1, 1, 1, 1, 1, 1, 0, 1, 1, 1, 1, 0, 1, 1, 1,\n",
       "       1, 1, 1, 1, 1, 1, 1, 0, 0, 0, 1, 1, 1, 0, 0, 1, 0, 1, 1, 1, 1, 1,\n",
       "       1, 1, 1, 1, 1, 1, 1, 1, 0, 1, 0, 1, 1, 1, 1, 0, 1, 1, 1, 1, 1, 0,\n",
       "       1, 1, 1, 1, 1, 1, 1, 0, 1, 1, 1, 0, 0, 1, 0, 1, 1, 1, 1, 0, 0, 1,\n",
       "       1, 1, 1, 1, 1, 1, 1, 1, 1, 1, 1, 1, 1, 1, 1, 1, 0, 0, 1, 1, 0, 1,\n",
       "       0, 1, 1, 1, 1, 1, 1, 1, 1, 1, 1, 1, 1, 0, 1, 1, 1, 1, 1, 1, 1, 1,\n",
       "       1, 1, 1, 1, 0, 1, 1, 1, 1, 0, 1, 1, 1, 1, 1, 0, 0, 1, 1, 1, 1, 0,\n",
       "       1, 0, 1, 0, 1, 1, 1, 1, 0, 1, 1, 1, 1, 0, 1, 1, 1, 1, 1, 1, 1, 1,\n",
       "       1, 1, 0, 1, 0, 1, 1, 1, 1, 0, 0, 1, 1, 1, 0, 1, 1, 1, 1, 1, 1, 1,\n",
       "       1, 1, 1, 1, 1, 1, 1, 0, 1, 1, 1, 1, 1, 1, 1, 0, 1, 1, 1, 1, 1, 1,\n",
       "       1, 1, 1, 0, 1, 1, 1, 1, 1, 0, 1, 1, 1, 1, 1, 1, 1, 0, 1, 1, 1, 1,\n",
       "       1, 1, 1, 1, 1, 1, 1, 1, 1, 0, 1, 1, 1, 1, 1, 1, 0, 1, 1, 1, 1, 1,\n",
       "       1, 1, 0, 1, 1, 1, 1, 1, 1, 1, 1, 1, 1, 1, 1])"
      ]
     },
     "execution_count": 231,
     "metadata": {},
     "output_type": "execute_result"
    }
   ],
   "source": [
    "y_pred"
   ]
  },
  {
   "cell_type": "code",
   "execution_count": 232,
   "metadata": {},
   "outputs": [],
   "source": [
    "with open(\"test_loan.csv\") as fp:\n",
    "    csv = fp.read()"
   ]
  },
  {
   "cell_type": "code",
   "execution_count": 233,
   "metadata": {},
   "outputs": [
    {
     "data": {
      "text/plain": [
       "'Loan_ID,Gender,Married,Dependents,Education,Self_Employed,ApplicantIncome,CoapplicantIncome,LoanAmount,Loan_Amount_Term,Credit_History,Property_Area\\nLP001015,Male,Yes,0,Graduate,No,5720,0,110,360,1,Urban\\nLP001022,Male,Yes,1,Graduate,No,3076,1500,126,360,1,Urban\\nLP001031,Male,Yes,2,Graduate,No,5000,1800,208,360,1,Urban\\nLP001035,Male,Yes,2,Graduate,No,2340,2546,100,360,,Urban\\nLP001051,Male,No,0,Not Graduate,No,3276,0,78,360,1,Urban\\nLP001054,Male,Yes,0,Not Graduate,Yes,2165,3422,152,360,1,Urban\\nLP001055,Female,No,1,Not Graduate,No,2226,0,59,360,1,Semiurban\\nLP001056,Male,Yes,2,Not Graduate,No,3881,0,147,360,0,Rural\\nLP001059,Male,Yes,2,Graduate,,13633,0,280,240,1,Urban\\nLP001067,Male,No,0,Not Graduate,No,2400,2400,123,360,1,Semiurban\\nLP001078,Male,No,0,Not Graduate,No,3091,0,90,360,1,Urban\\nLP001082,Male,Yes,1,Graduate,,2185,1516,162,360,1,Semiurban\\nLP001083,Male,No,3+,Graduate,No,4166,0,40,180,,Urban\\nLP001094,Male,Yes,2,Graduate,,12173,0,166,360,0,Semiurban\\nLP001096,Female,No,0,Graduate,No,4666,0,124,360,1,Semiurban\\nLP001099,Male,No,1,Graduate,No,5667,0,131,360,1,Urban\\nLP001105,Male,Yes,2,Graduate,No,4583,2916,200,360,1,Urban\\nLP001107,Male,Yes,3+,Graduate,No,3786,333,126,360,1,Semiurban\\nLP001108,Male,Yes,0,Graduate,No,9226,7916,300,360,1,Urban\\nLP001115,Male,No,0,Graduate,No,1300,3470,100,180,1,Semiurban\\nLP001121,Male,Yes,1,Not Graduate,No,1888,1620,48,360,1,Urban\\nLP001124,Female,No,3+,Not Graduate,No,2083,0,28,180,1,Urban\\nLP001128,,No,0,Graduate,No,3909,0,101,360,1,Urban\\nLP001135,Female,No,0,Not Graduate,No,3765,0,125,360,1,Urban\\nLP001149,Male,Yes,0,Graduate,No,5400,4380,290,360,1,Urban\\nLP001153,Male,No,0,Graduate,No,0,24000,148,360,0,Rural\\nLP001163,Male,Yes,2,Graduate,No,4363,1250,140,360,,Urban\\nLP001169,Male,Yes,0,Graduate,No,7500,3750,275,360,1,Urban\\nLP001174,Male,Yes,0,Graduate,No,3772,833,57,360,,Semiurban\\nLP001176,Male,No,0,Graduate,No,2942,2382,125,180,1,Urban\\nLP001177,Female,No,0,Not Graduate,No,2478,0,75,360,1,Semiurban\\nLP001183,Male,Yes,2,Graduate,No,6250,820,192,360,1,Urban\\nLP001185,Male,No,0,Graduate,No,3268,1683,152,360,1,Semiurban\\nLP001187,Male,Yes,0,Graduate,No,2783,2708,158,360,1,Urban\\nLP001190,Male,Yes,0,Graduate,No,2740,1541,101,360,1,Urban\\nLP001203,Male,No,0,Graduate,No,3150,0,176,360,0,Semiurban\\nLP001208,Male,Yes,2,Graduate,,7350,4029,185,180,1,Urban\\nLP001210,Male,Yes,0,Graduate,Yes,2267,2792,90,360,1,Urban\\nLP001211,Male,No,0,Graduate,Yes,5833,0,116,360,1,Urban\\nLP001219,Male,No,0,Graduate,No,3643,1963,138,360,1,Urban\\nLP001220,Male,Yes,0,Graduate,No,5629,818,100,360,1,Urban\\nLP001221,Female,No,0,Graduate,No,3644,0,110,360,1,Urban\\nLP001226,Male,Yes,0,Not Graduate,No,1750,2024,90,360,1,Semiurban\\nLP001230,Male,No,0,Graduate,No,6500,2600,200,360,1,Semiurban\\nLP001231,Female,No,0,Graduate,No,3666,0,84,360,1,Urban\\nLP001232,Male,Yes,0,Graduate,No,4260,3900,185,,,Urban\\nLP001237,Male,Yes,,Not Graduate,No,4163,1475,162,360,1,Urban\\nLP001242,Male,No,0,Not Graduate,No,2356,1902,108,360,1,Semiurban\\nLP001268,Male,No,0,Graduate,No,6792,3338,187,,1,Urban\\nLP001270,Male,Yes,3+,Not Graduate,Yes,8000,250,187,360,1,Semiurban\\nLP001284,Male,Yes,1,Graduate,No,2419,1707,124,360,1,Urban\\nLP001287,,Yes,3+,Not Graduate,No,3500,833,120,360,1,Semiurban\\nLP001291,Male,Yes,1,Graduate,No,3500,3077,160,360,1,Semiurban\\nLP001298,Male,Yes,2,Graduate,No,4116,1000,30,180,1,Urban\\nLP001312,Male,Yes,0,Not Graduate,Yes,5293,0,92,360,1,Urban\\nLP001313,Male,No,0,Graduate,No,2750,0,130,360,0,Urban\\nLP001317,Female,No,0,Not Graduate,No,4402,0,130,360,1,Rural\\nLP001321,Male,Yes,2,Graduate,No,3613,3539,134,180,1,Semiurban\\nLP001323,Female,Yes,2,Graduate,No,2779,3664,176,360,0,Semiurban\\nLP001324,Male,Yes,3+,Graduate,No,4720,0,90,180,1,Semiurban\\nLP001332,Male,Yes,0,Not Graduate,No,2415,1721,110,360,1,Semiurban\\nLP001335,Male,Yes,0,Graduate,Yes,7016,292,125,360,1,Urban\\nLP001338,Female,No,2,Graduate,No,4968,0,189,360,1,Semiurban\\nLP001347,Female,No,0,Graduate,No,2101,1500,108,360,0,Rural\\nLP001348,Male,Yes,3+,Not Graduate,No,4490,0,125,360,1,Urban\\nLP001351,Male,Yes,0,Graduate,No,2917,3583,138,360,1,Semiurban\\nLP001352,Male,Yes,0,Not Graduate,No,4700,0,135,360,0,Semiurban\\nLP001358,Male,Yes,0,Graduate,No,3445,0,130,360,0,Semiurban\\nLP001359,Male,Yes,0,Graduate,No,7666,0,187,360,1,Semiurban\\nLP001361,Male,Yes,0,Graduate,No,2458,5105,188,360,0,Rural\\nLP001366,Female,No,,Graduate,No,3250,0,95,360,1,Semiurban\\nLP001368,Male,No,0,Graduate,No,4463,0,65,360,1,Semiurban\\nLP001375,Male,Yes,1,Graduate,,4083,1775,139,60,1,Urban\\nLP001380,Male,Yes,0,Graduate,Yes,3900,2094,232,360,1,Rural\\nLP001386,Male,Yes,0,Not Graduate,No,4750,3583,144,360,1,Semiurban\\nLP001400,Male,No,0,Graduate,No,3583,3435,155,360,1,Urban\\nLP001407,Male,Yes,0,Graduate,No,3189,2367,186,360,1,Urban\\nLP001413,Male,No,0,Graduate,Yes,6356,0,50,360,1,Rural\\nLP001415,Male,Yes,1,Graduate,No,3413,4053,,360,1,Semiurban\\nLP001419,Female,Yes,0,Graduate,No,7950,0,185,360,1,Urban\\nLP001420,Male,Yes,3+,Graduate,No,3829,1103,163,360,0,Urban\\nLP001428,Male,Yes,3+,Graduate,No,72529,0,360,360,1,Urban\\nLP001445,Male,Yes,2,Not Graduate,No,4136,0,149,480,0,Rural\\nLP001446,Male,Yes,0,Graduate,No,8449,0,257,360,1,Rural\\nLP001450,Male,Yes,0,Graduate,No,4456,0,131,180,0,Semiurban\\nLP001452,Male,Yes,2,Graduate,No,4635,8000,102,180,1,Rural\\nLP001455,Male,Yes,0,Graduate,No,3571,1917,135,360,1,Urban\\nLP001466,Male,No,0,Graduate,No,3066,0,95,360,1,Semiurban\\nLP001471,Male,No,2,Not Graduate,No,3235,2015,77,360,1,Semiurban\\nLP001472,Female,No,0,Graduate,,5058,0,200,360,1,Rural\\nLP001475,Male,Yes,0,Graduate,Yes,3188,2286,130,360,,Rural\\nLP001483,Male,Yes,3+,Graduate,No,13518,0,390,360,1,Rural\\nLP001486,Male,Yes,1,Graduate,No,4364,2500,185,360,1,Semiurban\\nLP001490,Male,Yes,2,Not Graduate,No,4766,1646,100,360,1,Semiurban\\nLP001496,Male,Yes,1,Graduate,No,4609,2333,123,360,0,Semiurban\\nLP001499,Female,Yes,3+,Graduate,No,6260,0,110,360,1,Semiurban\\nLP001500,Male,Yes,1,Graduate,No,3333,4200,256,360,1,Urban\\nLP001501,Male,Yes,0,Graduate,No,3500,3250,140,360,1,Semiurban\\nLP001517,Male,Yes,3+,Graduate,No,9719,0,61,360,1,Urban\\nLP001527,Male,Yes,3+,Graduate,No,6835,0,188,360,,Semiurban\\nLP001534,Male,No,0,Graduate,No,4452,0,131,360,1,Rural\\nLP001542,Female,Yes,0,Graduate,No,2262,0,,480,0,Semiurban\\nLP001547,Male,Yes,1,Graduate,No,3901,0,116,360,1,Urban\\nLP001548,Male,Yes,2,Not Graduate,No,2687,0,50,180,1,Rural\\nLP001558,Male,No,0,Graduate,No,2243,2233,107,360,,Semiurban\\nLP001561,Female,Yes,0,Graduate,No,3417,1287,200,360,1,Semiurban\\nLP001563,,No,0,Graduate,No,1596,1760,119,360,0,Urban\\nLP001567,Male,Yes,3+,Graduate,No,4513,0,120,360,1,Rural\\nLP001568,Male,Yes,0,Graduate,No,4500,0,140,360,1,Semiurban\\nLP001573,Male,Yes,0,Not Graduate,No,4523,1350,165,360,1,Urban\\nLP001584,Female,No,0,Graduate,Yes,4742,0,108,360,1,Semiurban\\nLP001587,Male,Yes,,Graduate,No,4082,0,93,360,1,Semiurban\\nLP001589,Female,No,0,Graduate,No,3417,0,102,360,1,Urban\\nLP001591,Female,Yes,2,Graduate,No,2922,3396,122,360,1,Semiurban\\nLP001599,Male,Yes,0,Graduate,No,4167,4754,160,360,1,Rural\\nLP001601,Male,No,3+,Graduate,No,4243,4123,157,360,,Semiurban\\nLP001607,Female,No,0,Not Graduate,No,0,1760,180,360,1,Semiurban\\nLP001611,Male,Yes,1,Graduate,No,1516,2900,80,,0,Rural\\nLP001613,Female,No,0,Graduate,No,1762,2666,104,360,0,Urban\\nLP001622,Male,Yes,2,Graduate,No,724,3510,213,360,0,Rural\\nLP001627,Male,No,0,Graduate,No,3125,0,65,360,1,Urban\\nLP001650,Male,Yes,0,Graduate,No,2333,3803,146,360,1,Rural\\nLP001651,Male,Yes,3+,Graduate,No,3350,1560,135,360,1,Urban\\nLP001652,Male,No,0,Graduate,No,2500,6414,187,360,0,Rural\\nLP001655,Female,No,0,Graduate,No,12500,0,300,360,0,Urban\\nLP001660,Male,No,0,Graduate,No,4667,0,120,360,1,Semiurban\\nLP001662,Male,No,0,Graduate,No,6500,0,71,360,0,Urban\\nLP001663,Male,Yes,2,Graduate,No,7500,0,225,360,1,Urban\\nLP001667,Male,No,0,Graduate,No,3073,0,70,180,1,Urban\\nLP001695,Male,Yes,1,Not Graduate,No,3321,2088,70,,1,Semiurban\\nLP001703,Male,Yes,0,Graduate,No,3333,1270,124,360,1,Urban\\nLP001718,Male,No,0,Graduate,No,3391,0,132,360,1,Rural\\nLP001728,Male,Yes,1,Graduate,Yes,3343,1517,105,360,1,Rural\\nLP001735,Female,No,1,Graduate,No,3620,0,90,360,1,Urban\\nLP001737,Male,No,0,Graduate,No,4000,0,83,84,1,Urban\\nLP001739,Male,Yes,0,Graduate,No,4258,0,125,360,1,Urban\\nLP001742,Male,Yes,2,Graduate,No,4500,0,147,360,1,Rural\\nLP001757,Male,Yes,1,Graduate,No,2014,2925,120,360,1,Rural\\nLP001769,,No,,Graduate,No,3333,1250,110,360,1,Semiurban\\nLP001771,Female,No,3+,Graduate,No,4083,0,103,360,,Semiurban\\nLP001785,Male,No,0,Graduate,No,4727,0,150,360,0,Rural\\nLP001787,Male,Yes,3+,Graduate,No,3089,2999,100,240,1,Rural\\nLP001789,Male,Yes,3+,Not Graduate,,6794,528,139,360,0,Urban\\nLP001791,Male,Yes,0,Graduate,Yes,32000,0,550,360,,Semiurban\\nLP001794,Male,Yes,2,Graduate,Yes,10890,0,260,12,1,Rural\\nLP001797,Female,No,0,Graduate,No,12941,0,150,300,1,Urban\\nLP001815,Male,No,0,Not Graduate,No,3276,0,90,360,1,Semiurban\\nLP001817,Male,No,0,Not Graduate,Yes,8703,0,199,360,0,Rural\\nLP001818,Male,Yes,1,Graduate,No,4742,717,139,360,1,Semiurban\\nLP001822,Male,No,0,Graduate,No,5900,0,150,360,1,Urban\\nLP001827,Male,No,0,Graduate,No,3071,4309,180,360,1,Urban\\nLP001831,Male,Yes,0,Graduate,No,2783,1456,113,360,1,Urban\\nLP001842,Male,No,0,Graduate,No,5000,0,148,360,1,Rural\\nLP001853,Male,Yes,1,Not Graduate,No,2463,2360,117,360,0,Urban\\nLP001855,Male,Yes,2,Graduate,No,4855,0,72,360,1,Rural\\nLP001857,Male,No,0,Not Graduate,Yes,1599,2474,125,300,1,Semiurban\\nLP001862,Male,Yes,2,Graduate,Yes,4246,4246,214,360,1,Urban\\nLP001867,Male,Yes,0,Graduate,No,4333,2291,133,350,1,Rural\\nLP001878,Male,No,1,Graduate,No,5823,2529,187,360,1,Semiurban\\nLP001881,Male,Yes,0,Not Graduate,No,7895,0,143,360,1,Rural\\nLP001886,Male,No,0,Graduate,No,4150,4256,209,360,1,Rural\\nLP001906,Male,No,0,Graduate,,2964,0,84,360,0,Semiurban\\nLP001909,Male,No,0,Graduate,No,5583,0,116,360,1,Urban\\nLP001911,Female,No,0,Graduate,No,2708,0,65,360,1,Rural\\nLP001921,Male,No,1,Graduate,No,3180,2370,80,240,,Rural\\nLP001923,Male,No,0,Not Graduate,No,2268,0,170,360,0,Semiurban\\nLP001933,Male,No,2,Not Graduate,No,1141,2017,120,360,0,Urban\\nLP001943,Male,Yes,0,Graduate,No,3042,3167,135,360,1,Urban\\nLP001950,Female,Yes,3+,Graduate,,1750,2935,94,360,0,Semiurban\\nLP001959,Female,Yes,1,Graduate,No,3564,0,79,360,1,Rural\\nLP001961,Female,No,0,Graduate,No,3958,0,110,360,1,Rural\\nLP001973,Male,Yes,2,Not Graduate,No,4483,0,130,360,1,Rural\\nLP001975,Male,Yes,0,Graduate,No,5225,0,143,360,1,Rural\\nLP001979,Male,No,0,Graduate,No,3017,2845,159,180,0,Urban\\nLP001995,Male,Yes,0,Not Graduate,No,2431,1820,110,360,0,Rural\\nLP001999,Male,Yes,2,Graduate,,4912,4614,160,360,1,Rural\\nLP002007,Male,Yes,2,Not Graduate,No,2500,3333,131,360,1,Urban\\nLP002009,Female,No,0,Graduate,No,2918,0,65,360,,Rural\\nLP002016,Male,Yes,2,Graduate,No,5128,0,143,360,1,Rural\\nLP002017,Male,Yes,3+,Graduate,No,15312,0,187,360,,Urban\\nLP002018,Male,Yes,2,Graduate,No,3958,2632,160,360,1,Semiurban\\nLP002027,Male,Yes,0,Graduate,No,4334,2945,165,360,1,Semiurban\\nLP002028,Male,Yes,2,Graduate,No,4358,0,110,360,1,Urban\\nLP002042,Female,Yes,1,Graduate,No,4000,3917,173,360,1,Rural\\nLP002045,Male,Yes,3+,Graduate,No,10166,750,150,,1,Urban\\nLP002046,Male,Yes,0,Not Graduate,No,4483,0,135,360,,Semiurban\\nLP002047,Male,Yes,2,Not Graduate,No,4521,1184,150,360,1,Semiurban\\nLP002056,Male,Yes,2,Graduate,No,9167,0,235,360,1,Semiurban\\nLP002057,Male,Yes,0,Not Graduate,No,13083,0,,360,1,Rural\\nLP002059,Male,Yes,2,Graduate,No,7874,3967,336,360,1,Rural\\nLP002062,Female,Yes,1,Graduate,No,4333,0,132,84,1,Rural\\nLP002064,Male,No,0,Graduate,No,4083,0,96,360,1,Urban\\nLP002069,Male,Yes,2,Not Graduate,,3785,2912,180,360,0,Rural\\nLP002070,Male,Yes,3+,Not Graduate,No,2654,1998,128,360,0,Rural\\nLP002077,Male,Yes,1,Graduate,No,10000,2690,412,360,1,Semiurban\\nLP002083,Male,No,0,Graduate,Yes,5833,0,116,360,1,Urban\\nLP002090,Male,Yes,1,Graduate,No,4796,0,114,360,0,Semiurban\\nLP002096,Male,Yes,0,Not Graduate,No,2000,1600,115,360,1,Rural\\nLP002099,Male,Yes,2,Graduate,No,2540,700,104,360,0,Urban\\nLP002102,Male,Yes,0,Graduate,Yes,1900,1442,88,360,1,Rural\\nLP002105,Male,Yes,0,Graduate,Yes,8706,0,108,480,1,Rural\\nLP002107,Male,Yes,3+,Not Graduate,No,2855,542,90,360,1,Urban\\nLP002111,Male,Yes,,Graduate,No,3016,1300,100,360,,Urban\\nLP002117,Female,Yes,0,Graduate,No,3159,2374,108,360,1,Semiurban\\nLP002118,Female,No,0,Graduate,No,1937,1152,78,360,1,Semiurban\\nLP002123,Male,Yes,0,Graduate,No,2613,2417,123,360,1,Semiurban\\nLP002125,Male,Yes,1,Graduate,No,4960,2600,187,360,1,Semiurban\\nLP002148,Male,Yes,1,Graduate,No,3074,1083,146,360,1,Semiurban\\nLP002152,Female,No,0,Graduate,No,4213,0,80,360,1,Urban\\nLP002165,,No,1,Not Graduate,No,2038,4027,100,360,1,Rural\\nLP002167,Female,No,0,Graduate,No,2362,0,55,360,1,Urban\\nLP002168,Male,No,0,Graduate,No,5333,2400,200,360,0,Rural\\nLP002172,Male,Yes,3+,Graduate,Yes,5384,0,150,360,1,Semiurban\\nLP002176,Male,No,0,Graduate,No,5708,0,150,360,1,Rural\\nLP002183,Male,Yes,0,Not Graduate,No,3754,3719,118,,1,Rural\\nLP002184,Male,Yes,0,Not Graduate,No,2914,2130,150,300,1,Urban\\nLP002186,Male,Yes,0,Not Graduate,No,2747,2458,118,36,1,Semiurban\\nLP002192,Male,Yes,0,Graduate,No,7830,2183,212,360,1,Rural\\nLP002195,Male,Yes,1,Graduate,Yes,3507,3148,212,360,1,Rural\\nLP002208,Male,Yes,1,Graduate,No,3747,2139,125,360,1,Urban\\nLP002212,Male,Yes,0,Graduate,No,2166,2166,108,360,,Urban\\nLP002240,Male,Yes,0,Not Graduate,No,3500,2168,149,360,1,Rural\\nLP002245,Male,Yes,2,Not Graduate,No,2896,0,80,480,1,Urban\\nLP002253,Female,No,1,Graduate,No,5062,0,152,300,1,Rural\\nLP002256,Female,No,2,Graduate,Yes,5184,0,187,360,0,Semiurban\\nLP002257,Female,No,0,Graduate,No,2545,0,74,360,1,Urban\\nLP002264,Male,Yes,0,Graduate,No,2553,1768,102,360,1,Urban\\nLP002270,Male,Yes,1,Graduate,No,3436,3809,100,360,1,Rural\\nLP002279,Male,No,0,Graduate,No,2412,2755,130,360,1,Rural\\nLP002286,Male,Yes,3+,Not Graduate,No,5180,0,125,360,0,Urban\\nLP002294,Male,No,0,Graduate,No,14911,14507,130,360,1,Semiurban\\nLP002298,,No,0,Graduate,Yes,2860,2988,138,360,1,Urban\\nLP002306,Male,Yes,0,Graduate,No,1173,1594,28,180,1,Rural\\nLP002310,Female,No,1,Graduate,No,7600,0,92,360,1,Semiurban\\nLP002311,Female,Yes,0,Graduate,No,2157,1788,104,360,1,Urban\\nLP002316,Male,No,0,Graduate,No,2231,2774,176,360,0,Urban\\nLP002321,Female,No,0,Graduate,No,2274,5211,117,360,0,Semiurban\\nLP002325,Male,Yes,2,Not Graduate,No,6166,13983,102,360,1,Rural\\nLP002326,Male,Yes,2,Not Graduate,No,2513,1110,107,360,1,Semiurban\\nLP002329,Male,No,0,Graduate,No,4333,0,66,480,1,Urban\\nLP002333,Male,No,0,Not Graduate,No,3844,0,105,360,1,Urban\\nLP002339,Male,Yes,0,Graduate,No,3887,1517,105,360,0,Semiurban\\nLP002344,Male,Yes,0,Graduate,No,3510,828,105,360,1,Semiurban\\nLP002346,Male,Yes,0,Graduate,,2539,1704,125,360,0,Rural\\nLP002354,Female,No,0,Not Graduate,No,2107,0,64,360,1,Semiurban\\nLP002355,,Yes,0,Graduate,No,3186,3145,150,180,0,Semiurban\\nLP002358,Male,Yes,2,Graduate,Yes,5000,2166,150,360,1,Urban\\nLP002360,Male,Yes,,Graduate,No,10000,0,,360,1,Urban\\nLP002375,Male,Yes,0,Not Graduate,Yes,3943,0,64,360,1,Semiurban\\nLP002376,Male,No,0,Graduate,No,2925,0,40,180,1,Rural\\nLP002383,Male,Yes,3+,Graduate,No,3242,437,142,480,0,Urban\\nLP002385,Male,Yes,,Graduate,No,3863,0,70,300,1,Semiurban\\nLP002389,Female,No,1,Graduate,No,4028,0,131,360,1,Semiurban\\nLP002394,Male,Yes,2,Graduate,No,4010,1025,120,360,1,Urban\\nLP002397,Female,Yes,1,Graduate,No,3719,1585,114,360,1,Urban\\nLP002399,Male,No,0,Graduate,,2858,0,123,360,0,Rural\\nLP002400,Female,Yes,0,Graduate,No,3833,0,92,360,1,Rural\\nLP002402,Male,Yes,0,Graduate,No,3333,4288,160,360,1,Urban\\nLP002412,Male,Yes,0,Graduate,No,3007,3725,151,360,1,Rural\\nLP002415,Female,No,1,Graduate,,1850,4583,81,360,,Rural\\nLP002417,Male,Yes,3+,Not Graduate,No,2792,2619,171,360,1,Semiurban\\nLP002420,Male,Yes,0,Graduate,No,2982,1550,110,360,1,Semiurban\\nLP002425,Male,No,0,Graduate,No,3417,738,100,360,,Rural\\nLP002433,Male,Yes,1,Graduate,No,18840,0,234,360,1,Rural\\nLP002440,Male,Yes,2,Graduate,No,2995,1120,184,360,1,Rural\\nLP002441,Male,No,,Graduate,No,3579,3308,138,360,,Semiurban\\nLP002442,Female,Yes,1,Not Graduate,No,3835,1400,112,480,0,Urban\\nLP002445,Female,No,1,Not Graduate,No,3854,3575,117,360,1,Rural\\nLP002450,Male,Yes,2,Graduate,No,5833,750,49,360,0,Rural\\nLP002471,Male,No,0,Graduate,No,3508,0,99,360,1,Rural\\nLP002476,Female,Yes,3+,Not Graduate,No,1635,2444,99,360,1,Urban\\nLP002482,Female,No,0,Graduate,Yes,3333,3916,212,360,1,Rural\\nLP002485,Male,No,1,Graduate,No,24797,0,240,360,1,Semiurban\\nLP002495,Male,Yes,2,Graduate,No,5667,440,130,360,0,Semiurban\\nLP002496,Female,No,0,Graduate,No,3500,0,94,360,0,Semiurban\\nLP002523,Male,Yes,3+,Graduate,No,2773,1497,108,360,1,Semiurban\\nLP002542,Male,Yes,0,Graduate,,6500,0,144,360,1,Urban\\nLP002550,Female,No,0,Graduate,No,5769,0,110,180,1,Semiurban\\nLP002551,Male,Yes,3+,Not Graduate,,3634,910,176,360,0,Semiurban\\nLP002553,,No,0,Graduate,No,29167,0,185,360,1,Semiurban\\nLP002554,Male,No,0,Graduate,No,2166,2057,122,360,1,Semiurban\\nLP002561,Male,Yes,0,Graduate,No,5000,0,126,360,1,Rural\\nLP002566,Female,No,0,Graduate,No,5530,0,135,360,,Urban\\nLP002568,Male,No,0,Not Graduate,No,9000,0,122,360,1,Rural\\nLP002570,Female,Yes,2,Graduate,No,10000,11666,460,360,1,Urban\\nLP002572,Male,Yes,1,Graduate,,8750,0,297,360,1,Urban\\nLP002581,Male,Yes,0,Not Graduate,No,2157,2730,140,360,,Rural\\nLP002584,Male,No,0,Graduate,,1972,4347,106,360,1,Rural\\nLP002592,Male,No,0,Graduate,No,4983,0,141,360,1,Urban\\nLP002593,Male,Yes,1,Graduate,No,8333,4000,,360,1,Urban\\nLP002599,Male,Yes,0,Graduate,No,3667,2000,170,360,1,Semiurban\\nLP002604,Male,Yes,2,Graduate,No,3166,2833,145,360,1,Urban\\nLP002605,Male,No,0,Not Graduate,No,3271,0,90,360,1,Rural\\nLP002609,Female,Yes,0,Graduate,No,2241,2000,88,360,0,Urban\\nLP002610,Male,Yes,1,Not Graduate,,1792,2565,128,360,1,Urban\\nLP002612,Female,Yes,0,Graduate,No,2666,0,84,480,1,Semiurban\\nLP002614,,No,0,Graduate,No,6478,0,108,360,1,Semiurban\\nLP002630,Male,No,0,Not Graduate,,3808,0,83,360,1,Rural\\nLP002635,Female,Yes,2,Not Graduate,No,3729,0,117,360,1,Semiurban\\nLP002639,Male,Yes,2,Graduate,No,4120,0,128,360,1,Rural\\nLP002644,Male,Yes,1,Graduate,Yes,7500,0,75,360,1,Urban\\nLP002651,Male,Yes,1,Graduate,,6300,0,125,360,0,Urban\\nLP002654,Female,No,,Graduate,Yes,14987,0,177,360,1,Rural\\nLP002657,,Yes,1,Not Graduate,Yes,570,2125,68,360,1,Rural\\nLP002711,Male,Yes,0,Graduate,No,2600,700,96,360,1,Semiurban\\nLP002712,Male,No,2,Not Graduate,No,2733,1083,180,360,,Semiurban\\nLP002721,Male,Yes,2,Graduate,Yes,7500,0,183,360,1,Rural\\nLP002735,Male,Yes,2,Not Graduate,No,3859,0,121,360,1,Rural\\nLP002744,Male,Yes,1,Graduate,No,6825,0,162,360,1,Rural\\nLP002745,Male,Yes,0,Graduate,No,3708,4700,132,360,1,Semiurban\\nLP002746,Male,No,0,Graduate,No,5314,0,147,360,1,Urban\\nLP002747,Female,No,3+,Graduate,No,2366,5272,153,360,0,Rural\\nLP002754,Male,No,,Graduate,No,2066,2108,104,84,1,Urban\\nLP002759,Male,Yes,2,Graduate,No,5000,0,149,360,1,Rural\\nLP002760,Female,No,0,Graduate,No,3767,0,134,300,1,Urban\\nLP002766,Female,Yes,0,Graduate,No,7859,879,165,180,1,Semiurban\\nLP002769,Female,Yes,0,Graduate,No,4283,0,120,360,1,Rural\\nLP002774,Male,Yes,0,Not Graduate,No,1700,2900,67,360,0,Urban\\nLP002775,,No,0,Not Graduate,No,4768,0,125,360,1,Rural\\nLP002781,Male,No,0,Graduate,No,3083,2738,120,360,1,Urban\\nLP002782,Male,Yes,1,Graduate,No,2667,1542,148,360,1,Rural\\nLP002786,Female,Yes,0,Not Graduate,No,1647,1762,181,360,1,Urban\\nLP002790,Male,Yes,3+,Graduate,No,3400,0,80,120,1,Urban\\nLP002791,Male,No,1,Graduate,,16000,5000,40,360,1,Semiurban\\nLP002793,Male,Yes,0,Graduate,No,5333,0,90,360,1,Rural\\nLP002802,Male,No,0,Graduate,No,2875,2416,95,6,0,Semiurban\\nLP002803,Male,Yes,1,Not Graduate,,2600,618,122,360,1,Semiurban\\nLP002805,Male,Yes,2,Graduate,No,5041,700,150,360,1,Urban\\nLP002806,Male,Yes,3+,Graduate,Yes,6958,1411,150,360,1,Rural\\nLP002816,Male,Yes,1,Graduate,No,3500,1658,104,360,,Semiurban\\nLP002823,Male,Yes,0,Graduate,No,5509,0,143,360,1,Rural\\nLP002825,Male,Yes,3+,Graduate,No,9699,0,300,360,1,Urban\\nLP002826,Female,Yes,1,Not Graduate,No,3621,2717,171,360,1,Urban\\nLP002843,Female,Yes,0,Graduate,No,4709,0,113,360,1,Semiurban\\nLP002849,Male,Yes,0,Graduate,No,1516,1951,35,360,1,Semiurban\\nLP002850,Male,No,2,Graduate,No,2400,0,46,360,1,Urban\\nLP002853,Female,No,0,Not Graduate,No,3015,2000,145,360,,Urban\\nLP002856,Male,Yes,0,Graduate,No,2292,1558,119,360,1,Urban\\nLP002857,Male,Yes,1,Graduate,Yes,2360,3355,87,240,1,Rural\\nLP002858,Female,No,0,Graduate,No,4333,2333,162,360,0,Rural\\nLP002860,Male,Yes,0,Graduate,Yes,2623,4831,122,180,1,Semiurban\\nLP002867,Male,No,0,Graduate,Yes,3972,4275,187,360,1,Rural\\nLP002869,Male,Yes,3+,Not Graduate,No,3522,0,81,180,1,Rural\\nLP002870,Male,Yes,1,Graduate,No,4700,0,80,360,1,Urban\\nLP002876,Male,No,0,Graduate,No,6858,0,176,360,1,Rural\\nLP002878,Male,Yes,3+,Graduate,No,8334,0,260,360,1,Urban\\nLP002879,Male,Yes,0,Graduate,No,3391,1966,133,360,0,Rural\\nLP002885,Male,No,0,Not Graduate,No,2868,0,70,360,1,Urban\\nLP002890,Male,Yes,2,Not Graduate,No,3418,1380,135,360,1,Urban\\nLP002891,Male,Yes,0,Graduate,Yes,2500,296,137,300,1,Rural\\nLP002899,Male,Yes,2,Graduate,No,8667,0,254,360,1,Rural\\nLP002901,Male,No,0,Graduate,No,2283,15000,106,360,,Rural\\nLP002907,Male,Yes,0,Graduate,No,5817,910,109,360,1,Urban\\nLP002920,Male,Yes,0,Graduate,No,5119,3769,120,360,1,Rural\\nLP002921,Male,Yes,3+,Not Graduate,No,5316,187,158,180,0,Semiurban\\nLP002932,Male,Yes,3+,Graduate,No,7603,1213,197,360,1,Urban\\nLP002935,Male,Yes,1,Graduate,No,3791,1936,85,360,1,Urban\\nLP002952,Male,No,0,Graduate,No,2500,0,60,360,1,Urban\\nLP002954,Male,Yes,2,Not Graduate,No,3132,0,76,360,,Rural\\nLP002962,Male,No,0,Graduate,No,4000,2667,152,360,1,Semiurban\\nLP002965,Female,Yes,0,Graduate,No,8550,4255,96,360,,Urban\\nLP002969,Male,Yes,1,Graduate,No,2269,2167,99,360,1,Semiurban\\nLP002971,Male,Yes,3+,Not Graduate,Yes,4009,1777,113,360,1,Urban\\nLP002975,Male,Yes,0,Graduate,No,4158,709,115,360,1,Urban\\nLP002980,Male,No,0,Graduate,No,3250,1993,126,360,,Semiurban\\nLP002986,Male,Yes,0,Graduate,No,5000,2393,158,360,1,Rural\\nLP002989,Male,No,0,Graduate,Yes,9200,0,98,180,1,Rural\\n'"
      ]
     },
     "execution_count": 233,
     "metadata": {},
     "output_type": "execute_result"
    }
   ],
   "source": [
    "csv"
   ]
  },
  {
   "cell_type": "code",
   "execution_count": null,
   "metadata": {},
   "outputs": [],
   "source": []
  },
  {
   "cell_type": "code",
   "execution_count": null,
   "metadata": {},
   "outputs": [],
   "source": []
  },
  {
   "cell_type": "code",
   "execution_count": 223,
   "metadata": {},
   "outputs": [
    {
     "data": {
      "text/plain": [
       "['model.pkl']"
      ]
     },
     "execution_count": 223,
     "metadata": {},
     "output_type": "execute_result"
    }
   ],
   "source": [
    "from sklearn.externals import joblib\n",
    "# save model\n",
    "joblib.dump(log_reg, 'model.pkl')"
   ]
  },
  {
   "cell_type": "code",
   "execution_count": null,
   "metadata": {},
   "outputs": [],
   "source": []
  }
 ],
 "metadata": {
  "kernelspec": {
   "display_name": "Python 3",
   "language": "python",
   "name": "python3"
  },
  "language_info": {
   "codemirror_mode": {
    "name": "ipython",
    "version": 3
   },
   "file_extension": ".py",
   "mimetype": "text/x-python",
   "name": "python",
   "nbconvert_exporter": "python",
   "pygments_lexer": "ipython3",
   "version": "3.7.3"
  }
 },
 "nbformat": 4,
 "nbformat_minor": 2
}
